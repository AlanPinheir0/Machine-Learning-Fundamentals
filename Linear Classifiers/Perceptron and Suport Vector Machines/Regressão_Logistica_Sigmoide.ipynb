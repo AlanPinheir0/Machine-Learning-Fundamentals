{
 "cells": [
  {
   "cell_type": "markdown",
   "metadata": {},
   "source": [
    "<font  size = 6> **Regressão Logística** </font>"
   ]
  },
  {
   "cell_type": "markdown",
   "metadata": {},
   "source": [
    "<font size = 5 >  Conteudo desse Notebook:</font>\n",
    "<ol>\n",
    "    <li><a href=\"#1.\">Descrição do Dataset</a></li>\n",
    "    <li><a href=\"#2.\">Configuração do notebook e os dados</a></li>\n",
    "    <li><a href=\"#3.\">Pré-processamento dos dados de texto</a></li>\n",
    "    <li><a href=\"#4.\">Tipos de problemas abordados pelo modelo linear</a></li> \n",
    "    <li><a href=\"#5.\">Modelagem do problema de regressão logística</a></li>\n",
    "    <li><a href=\"#6.\">O algoritmo de Aprendizagem</a></li>\n",
    "    <li><a href=\"#7.\">Aplicação</a></li>\n",
    "</ol>\n",
    "\n",
    "    \n"
   ]
  },
  {
   "cell_type": "markdown",
   "metadata": {},
   "source": [
    "<font id=\"1.\" color = 'red' size = 4 > *1. Descrição do Dataset*</font>\n",
    "\n",
    "\n",
    "O data set`Sentimento` consiste em 3000 sentenças oriundas de revisões feitas nos sites `imbd.com`, `amazon.com` e `yelp.com`. Cada sentença é classificada como positiva ou negativa de acordo com a revião, onde o <font color = 'green'> label \"1\" </font> corresponde a uma <font color = 'green'>revisão positiva </font> e <font color = 'red'>\"0\" </font>a uma revisão  </font><font color = 'red'>negativa</font>.\n",
    "\n",
    "Irei usar <font color = 'blue'> **regressão logística** </font> para aprender não apenas a classificar esse conjunto de dados (sentenças) como positivas ou negativas como também predizer com que probabilidade estamos classificando a sentença. \n",
    "\n",
    "Os dados estão disponíveis em https://www.kaggle.com/rahulin05/sentiment-labelled-sentences-data-set e foram alocados na pasta `sentiment_labelled_sentences`.O arquivo `full_set.txt` é a união dos datasets do `imbd.com`, `amazon.com` e `yelp.com`, respectivamente."
   ]
  },
  {
   "cell_type": "markdown",
   "metadata": {},
   "source": [
    "<font id=\"2.\" color = 'red' size = 4 > *2. Configurando o notebook, carregando os dados*</font>\n",
    "\n",
    "\n",
    "Primeiro, importando pacotes padrões...\n"
   ]
  },
  {
   "cell_type": "code",
   "execution_count": 1,
   "metadata": {},
   "outputs": [],
   "source": [
    "%matplotlib inline\n",
    "import string\n",
    "import numpy as np\n",
    "import matplotlib\n",
    "import matplotlib.pyplot as plt\n",
    "matplotlib.rc('xtick', labelsize=14) \n",
    "matplotlib.rc('ytick', labelsize=14)"
   ]
  },
  {
   "cell_type": "markdown",
   "metadata": {},
   "source": [
    "Carregando os dados..."
   ]
  },
  {
   "cell_type": "code",
   "execution_count": 2,
   "metadata": {},
   "outputs": [],
   "source": [
    "## Lendo o data set.\n",
    "with open(\"datasets/sentiment_labelled_sentences/full_set.txt\") as f:\n",
    "    content = f.readlines()    \n",
    "#Removendo os espaços em branco à direita e à esquerda.\n",
    "content = [x.strip() for x in content]\n",
    "# Separando as sentenças e  labels\n",
    "sentences = [x.split(\"\\t\")[0] for x in content]\n",
    "labels = [x.split(\"\\t\")[1] for x in content]\n",
    "y = np.array(labels, dtype='int8')"
   ]
  },
  {
   "cell_type": "markdown",
   "metadata": {},
   "source": [
    "Olhando como os dados de entrada se apresentam..."
   ]
  },
  {
   "cell_type": "code",
   "execution_count": 3,
   "metadata": {},
   "outputs": [
    {
     "data": {
      "text/plain": [
       "['So there is no way for me to plug it in here in the US unless I go by a converter.\\t0',\n",
       " 'Good case, Excellent value.\\t1',\n",
       " 'Great for the jawbone.\\t1',\n",
       " 'Tied to charger for conversations lasting more than 45 minutes.MAJOR PROBLEMS!!\\t0',\n",
       " 'The mic is great.\\t1',\n",
       " 'I have to jiggle the plug to get it to line up right to get decent volume.\\t0',\n",
       " 'If you have several dozen or several hundred contacts, then imagine the fun of sending each of them one by one.\\t0',\n",
       " 'If you are Razr owner...you must have this!\\t1',\n",
       " 'Needless to say, I wasted my money.\\t0',\n",
       " 'What a waste of money and time!.\\t0']"
      ]
     },
     "execution_count": 3,
     "metadata": {},
     "output_type": "execute_result"
    }
   ],
   "source": [
    "content [0:10]"
   ]
  },
  {
   "cell_type": "markdown",
   "metadata": {},
   "source": [
    "Olhando como as sentenças de apresentam..."
   ]
  },
  {
   "cell_type": "code",
   "execution_count": 4,
   "metadata": {},
   "outputs": [
    {
     "data": {
      "text/plain": [
       "['So there is no way for me to plug it in here in the US unless I go by a converter.',\n",
       " 'Good case, Excellent value.',\n",
       " 'Great for the jawbone.',\n",
       " 'Tied to charger for conversations lasting more than 45 minutes.MAJOR PROBLEMS!!',\n",
       " 'The mic is great.']"
      ]
     },
     "execution_count": 4,
     "metadata": {},
     "output_type": "execute_result"
    }
   ],
   "source": [
    "sentences[0:5]"
   ]
  },
  {
   "cell_type": "markdown",
   "metadata": {},
   "source": [
    "##### Olhando para os labels..."
   ]
  },
  {
   "cell_type": "code",
   "execution_count": 5,
   "metadata": {},
   "outputs": [
    {
     "data": {
      "text/plain": [
       "array([0, 1, 1, 0, 1], dtype=int8)"
      ]
     },
     "execution_count": 5,
     "metadata": {},
     "output_type": "execute_result"
    }
   ],
   "source": [
    "y[0:5]"
   ]
  },
  {
   "cell_type": "markdown",
   "metadata": {},
   "source": [
    "<font id=\"3.\" color = 'red' size = 4> 3. Pré-processando os dados de texto</font> \n",
    "\n",
    "Para transformar este problema de predição em um exequível problema para a classificação linear, É preciso pré-processar os dados de texto. Para isso 4 transformações serão feitas em 4 passos:\n",
    "\n",
    "1. Remover pontuações e números.\n",
    "2. Deixar todas as palavras com letras minúsculas.\n",
    "3. Remover _stop words_ .\n",
    "4. Converter as sentenças em vetores, usando uma representação por malas de palavrasa \"bag-of-words representation\".\n",
    "\n",
    "Passos 1 e 2"
   ]
  },
  {
   "cell_type": "code",
   "execution_count": 6,
   "metadata": {},
   "outputs": [],
   "source": [
    "## A função full_remove recebe uma string(sentença) \"x\" e uma lista de characteres para serem removidos \"removal_list\" \n",
    "## returna x com todos os caracteres contidos na \"removal_list\" trocados por ' ' ( um espaço)\n",
    "def full_remove(x, removal_list):\n",
    "    for w in removal_list:\n",
    "        x = x.replace(w, ' ')\n",
    "    return x\n",
    "\n",
    "## Remover números\n",
    "digits = [str(x) for x in range(10)]\n",
    "digit_less = [full_remove(x, digits) for x in sentences]\n",
    "\n",
    "## Remover pontuação\n",
    "punc_less = [full_remove(x, list(string.punctuation)) for x in digit_less]\n",
    "\n",
    "## Convertendo todas as letras para minúsculo\n",
    "sents_lower = [x.lower() for x in punc_less]"
   ]
  },
  {
   "cell_type": "markdown",
   "metadata": {},
   "source": [
    "Passo 3: Stop Words\n",
    "\n",
    "Stop words são palavras que filtramos e dispensamos porque acreditamos que não possuam informações úteis para o problema de classificação. Essas palavras são normalmente artigos (\"a\",\"as\",...), pronomes (\"eu\",\"eles\",..) e preposições (\"para\", \"de\", ...). Iremos usar uma pequena lista de stop words, o que significa que não é a mais abrangente."
   ]
  },
  {
   "cell_type": "code",
   "execution_count": 7,
   "metadata": {},
   "outputs": [],
   "source": [
    "## Definindo nossas stop words\n",
    "stop_set = set(['the', 'a', 'an', 'i', 'he', 'she', 'they', 'to', 'of', 'it', 'from'])\n",
    "\n",
    "## Removendo stop words\n",
    "sents_split = [x.split() for x in sents_lower]\n",
    "sents_processed = [\" \".join(list(filter(lambda a: a not in stop_set, x))) for x in sents_split]"
   ]
  },
  {
   "cell_type": "markdown",
   "metadata": {},
   "source": [
    "Visualizando a aparencia das sentenças após os três primeiros passos..."
   ]
  },
  {
   "cell_type": "code",
   "execution_count": 8,
   "metadata": {},
   "outputs": [
    {
     "data": {
      "text/plain": [
       "['so there is no way for me plug in here in us unless go by converter',\n",
       " 'good case excellent value',\n",
       " 'great for jawbone',\n",
       " 'tied charger for conversations lasting more than minutes major problems',\n",
       " 'mic is great']"
      ]
     },
     "execution_count": 8,
     "metadata": {},
     "output_type": "execute_result"
    }
   ],
   "source": [
    "sents_processed[0:5]"
   ]
  },
  {
   "cell_type": "markdown",
   "metadata": {},
   "source": [
    "Passo 4: Bag Words\n",
    "\n",
    "Para usar o Classificador linear no conjunto de dados, é preciso transformar os dados de texto em dados numéricos. A forma clássica de se fazer isso é conhecida como a representação por mala de palavras '_bag of words_ representation'. \n",
    "\n",
    "Nessa representação, cada palavra é pensada como um número no conjunto `{1, 2, ..., V}` onde `V` é o tamanho do nosso vocabulário (número de palavras diferentes nas 3000 sentenças). E cada sentença é representada como um vetor $x$ de dimensão V, onde cada $x_i$ é o número de vezes que a palavra $i$ aparece na sentença.\n",
    "\n",
    "Para fazer essa transformação, usarei a classe`CountVectorizer` do `scikit-learn`.Irei limitar o vocabulário ao número máximo de 4500 palavras, isso significa  que uma determinada palavra do nosso conjunto de dados só fará parte do vocabulário se ela fizer parte de uma das 4500 palavras mais frequentes. Essa limitação é um passo comum para lidar com erros de digitação.\n",
    "\n",
    "\n",
    "Finalmente, adicionarei \"1\" no final de cada vetor para permitir que o nosso classificador linear consiga lidar com o  bias (dica do yasser)"
   ]
  },
  {
   "cell_type": "code",
   "execution_count": 9,
   "metadata": {},
   "outputs": [],
   "source": [
    "from sklearn.feature_extraction.text import CountVectorizer\n",
    "\n",
    "## Transformando para a representação de mala de palavras \"bag of words representation\".\n",
    "vectorizer = CountVectorizer(analyzer = \"word\", tokenizer = None, preprocessor = None, stop_words = None, max_features = 4500)\n",
    "data_features = vectorizer.fit_transform(sents_processed)\n",
    "\n",
    "## adicionando '1' no fim de cada vetor\n",
    "data_mat = data_features.toarray()\n",
    "\n",
    "p_mat = data_features.toarray()\n",
    "data_mat = np.ones((p_mat.shape[0], p_mat.shape[1]+1))\n",
    "data_mat[:,:-1] = p_mat"
   ]
  },
  {
   "cell_type": "code",
   "execution_count": 10,
   "metadata": {},
   "outputs": [
    {
     "data": {
      "text/plain": [
       "(3000, 4501)"
      ]
     },
     "execution_count": 10,
     "metadata": {},
     "output_type": "execute_result"
    }
   ],
   "source": [
    "data_mat.shape"
   ]
  },
  {
   "cell_type": "code",
   "execution_count": 11,
   "metadata": {},
   "outputs": [
    {
     "data": {
      "text/plain": [
       "<3000x4500 sparse matrix of type '<class 'numpy.int64'>'\n",
       "\twith 27379 stored elements in Compressed Sparse Row format>"
      ]
     },
     "execution_count": 11,
     "metadata": {},
     "output_type": "execute_result"
    }
   ],
   "source": [
    "data_features"
   ]
  },
  {
   "cell_type": "markdown",
   "metadata": {},
   "source": [
    "Visualizando a representação da primeira sentença"
   ]
  },
  {
   "cell_type": "code",
   "execution_count": 12,
   "metadata": {},
   "outputs": [],
   "source": [
    "xs = np.array( [ z[0] for z in list(vectorizer.vocabulary_.items())[0:18]])"
   ]
  },
  {
   "cell_type": "code",
   "execution_count": 13,
   "metadata": {},
   "outputs": [
    {
     "data": {
      "image/png": "[encoded data removed]",
      "text/plain": [
       "<Figure size 1080x360 with 1 Axes>"
      ]
     },
     "metadata": {},
     "output_type": "display_data"
    },
    {
     "name": "stdout",
     "output_type": "stream",
     "text": [
      "X_is, não nulos do vetor que representa a 1ª sentença\t [(array([ 575,  941, 1694, 1759, 1832, 1896, 1924, 2271, 2437, 2747, 3516,\n",
      "       3900, 4147, 4189, 4334, 4500]),)]\n"
     ]
    }
   ],
   "source": [
    "plt.style.use('ggplot')\n",
    "fig = plt.figure(figsize = (15,5))\n",
    "plt.plot(data_mat[0][data_mat[0]!=0],'bo')\n",
    "plt.xticks(np.arange(0,16),xs)\n",
    "plt.yticks(np.arange(0,4))\n",
    "plt.ylabel('repetições')\n",
    "plt.title('bag of words - 1ª sentença')\n",
    "plt.show()\n",
    "print('X_is, não nulos do vetor que representa a 1ª sentença\\t',[np.where(data_mat[0]!=0)])\n",
    "\n"
   ]
  },
  {
   "cell_type": "markdown",
   "metadata": {},
   "source": [
    "<font id=\"4.\" color = 'red' size = 4> *4. Tipos de problemas abordados pelo modelo linear*</font>"
   ]
  },
  {
   "cell_type": "markdown",
   "metadata": {},
   "source": [
    "<font size =3.5> **O modelo linear pode ser empregado em três classes de problemas, classificados conforme o input e o output.**</font>\n",
    "\n",
    "<p><font size = 3 color ='blue' > <strong> 1. O problema de classificação</strong> $ g(x):\\mathbb{R^n}\\longrightarrow(-1,1)$</font></p>\n",
    "\n",
    "Onde $g(x)$ é a hipotese final que se aproxima da desconhecida $f(x)$, essa função sempre retornará `-1 ou 1` e isso é usado para realizarmos uma classificação binária. Tratando do modelo linear a função $g(x)$ em questão é $sign(<w^T,x>)$, função que analisa o sinal do produto interno do vetor peso `w` com o vetor `x`. O principio dessa classificação está na divisão do domínio $X \\epsilon \\mathbb{R^n}$ em dois \"lados\", e assinalar para cada ponto o seu \"lado\" de acordo com a função $g(x)$. O vetor `w` é o vetor normal que descreve a reta,o planoou o hiperplano que dividem o dominio no $\\mathbb{R^2}$,$\\mathbb{R^3}$e$\\mathbb{R^{n>3}}$,respectivamente. A obtenção de w envolve a aplicação do `PLA` como algoritmo de aprendizado."
   ]
  },
  {
   "cell_type": "markdown",
   "metadata": {},
   "source": [
    "<p><font size = 3 color = 'blue'><strong> 2. O problema de regressão Linear</strong> $ g(x):\\mathbb{R^n}\\longrightarrow\\mathbb{R}$</font></p>\n",
    "\n",
    "Onde $g(x)$ é a hipotese final que se aproxima da desconhecida $f(x)$, essa função sempre retornará um `escalar`. Tratando do modelo linear a função $g(x)$ em questão é $ <w^T.x>$, função que retorna o valor do produto interno entre vetor peso transposto `w^T` com o vetor `x`. A obtenção de w envolve a resolução de um sistema de equações lineares $ \\frac{2}{N}X^T(X.w - y)=0$ (onde X é uma matriz que contem todos os vetores x em suas linhas e y é o vetor com todos os labels) obtido da derivação da função erro  $L(w)=\\sum_{i = 1}^{N} \\frac{1}{N}(y^i - <w^T,x^i>)^2$, estabelecida pelo método de mínimos quadrados."
   ]
  },
  {
   "cell_type": "markdown",
   "metadata": {},
   "source": [
    "<p><font size = 3 color = 'blue'><strong> 3. O problema de regressão Logística</strong> $ g(x):\\mathbb{R^n}\\longrightarrow[0,1]$</font></p>\n",
    "\n",
    "Onde $g(x)$ é a hipotese final que se aproxima da desconhecida $f(x)$, essa função sempre retornará uma probabilidade `p E [0,1]`. Tratando do modelo linear a função $g(x)$ é uma composição $S(h(x))$ onde $ h(x) = <w^T.x>$ e $S$ qualquer função que leve um escalar ao intervalo de probabilidades [0,1]. \n"
   ]
  },
  {
   "cell_type": "markdown",
   "metadata": {},
   "source": [
    "<font id = \"5.\" color = 'red' size = 4> *5. Modelagem do problema de Regressão Logística*</font> "
   ]
  },
  {
   "cell_type": "markdown",
   "metadata": {},
   "source": [
    "No problema de regressão logística, não estamos interessados apenas em classicarmos o conjunto de dados ou em fitarmos a melhor reta, o plano ou o hiperplano que melhor descreve o conjunto de dados. Estamos interessados em medir a `confiabilidade` da classificação obtida pelo modelo linear. A confiabilidade é metrificada em termos de `probabilidades`, portanto estamos interessados em medir `P(y = predição| x)`, que significa a probabilidade de y pertencer a determinado label dado x."
   ]
  },
  {
   "cell_type": "markdown",
   "metadata": {},
   "source": [
    "<font size = 3 color = 'blue'>5.1 Modelagem conforme discutido em sala de aula</font>\n",
    "\n",
    "\n",
    "Usando como exemplo o problema de empreśtimos bancários, temos disponível um dataset hipotético com $y^i \\epsilon[0,1]$, onde 1 o cliente pagou o empréstimo e 0 não pagou. Além disso temos, $x^i \\epsilon\\mathbb{R^n}$ que contem algumas caracteristicas do cliente (e.g idade, renda, residencia fixa, etc)\n",
    "\n",
    "\n",
    "Podemos definir uma função erro $L(w) =\\sum_{i=1}^{N}\\frac{1}{N}(y^i - <w^T,x^i>)$ que retorna a média aritmética da diferença entre $y^i$ uma probabilidade que só assume valores 0 = 0% e 1 = 100% e $<w^T,x^i>$ , essa primeira formulação apresenta uma inconcistência, pois y é uma probabilidade e o produto interno pode ser qualquer real. \n",
    "\n",
    "<p>Sendo assim é necessário definir uma função que receba o valor do produto interno e retorn uma probabilidade. A função escolhida foi a sigmoide $S(x) =\\frac{1}{1+e^{-x}}$\n",
    "<img src = 'Mídias/Imagens/sigmoide.png'>\n",
    "\n",
    "\n",
    "Definida a função sigmóide, podemos definir novamente a função $L(w)=\\sum_{i=1}^{N}\\frac{1}{N}(y^i - \\frac{1}{1+e^{- <w^T,x^i>}})^2$, tomando o quadrado da diferença.\n",
    "\n",
    "O vetor peso `w` é obtido utilizando o gradiente descendente, $ w_{i+1}= w_i - \\eta\\frac{d{l(w)}}{dw}$"
   ]
  },
  {
   "cell_type": "markdown",
   "metadata": {},
   "source": [
    "<font size = 3 color = 'blue'>5.1 Modelagem alternativa</font>\n",
    "\n",
    "A Modelagem discutida em aula só considera a probabilidade P(y = 1|x) = $ \\frac{1}{1+e^{- <w^T,x^i>}}$, para o problema ser abrangente, precisamos considerar o comprementar dessa função, P(y = 0|x) = 1 - P(y = 1|x) = $\\frac{1}{1+e^{<w^T,x^i>}}$.\n",
    "\n",
    "\n",
    "Para generalizar a função P(y|x), iremos fazer uma transformação, para todo y = 0, para y = -1, dessa forma $ P(y|x) = \\frac{1}{1+e^{-y<w^T,x^i>}}$.\n",
    "\n",
    "Para aprendermos o parâmetro W, usaremos o `Princípio da máxima verossimilhança`, maximizando: $\\prod_{i=1}^N P(y^i|x^i)$ \n",
    "\n",
    "Para escaparmos do Produtório e lidarmos com uma soma, tomamos o `ln`, então podemos escrever: $ Maximizar: -\\sum_{i=1}^N ln(P(y^i|x^i)) = Minimizar:\\sum_{i=1}^N  ln(1+e^{-y^i<w^T,x^i>})$\n",
    "\n",
    "<p>$L(w) = \\sum_{i=1}^N  ln(1+e^{-y^i<w^T,x^i>})$</p>\n",
    "\n",
    "<p>$\\frac{dL(w)}{dw_j} = \\sum_{i=1}^N \\frac{e^{-y^i<w^T,x^i> (y^iw_jx_j^i)}}{1+e^{-y^i<w^T,x^i>}} = -\\sum_{i=1}^N \\frac{e^{1}}{1+e^{y^i<w^T,x^i>}}(y^ix^i)  = -\\sum_{i=1}^NP(-y^i|x^i)(y^ix_j^i) $</p>\n",
    "\n",
    "<p>$\\frac{\\nabla L(w)}{dw} = -\\sum_{i=1}^NP(-y^i|x^i)(y^ix^i) $ </p>\n",
    "\n",
    "O vetor peso `w` é obtido utilizando o gradiente descendente, $ w_{i+1}= w_i + \\eta\\sum_{i=1}^NP(-y^i|x^i)(y^ix^i)$"
   ]
  },
  {
   "cell_type": "markdown",
   "metadata": {},
   "source": [
    "<font id = \"6.\" color = 'red' size = 4> *6. O algoritmo de aprendizagem*</font> "
   ]
  },
  {
   "cell_type": "code",
   "execution_count": 14,
   "metadata": {},
   "outputs": [],
   "source": [
    "class logistic_regression:\n",
    "    \n",
    "    def __init__(self):\n",
    "        pass\n",
    "    \n",
    "    def fit(self,train_x,train_y,tolerancia = 100):\n",
    "        \n",
    "        self.train_x = train_x\n",
    "        self.train_y = train_y\n",
    "        self.w = np.zeros(self.train_x.shape[1])\n",
    "        self.gradient = np.ones(self.train_x.shape[1])\n",
    "        \n",
    "        while np.sum(self.gradient!=0)!=0:\n",
    "            self.gradient = np.zeros(self.train_x.shape[1])\n",
    "            for i in range(self.train_x.shape[0]):\n",
    "                self.gradient += (1/(1+np.exp(self.train_y[i]*np.dot(self.w.T,self.train_x[i]))))*(self.train_y[i]*self.train_x[i])\n",
    "                self.w = self.w + self.gradient\n",
    "            if np.sum(self.gradient!=0)<=tolerancia:\n",
    "                break\n",
    "         \n",
    "            \n",
    "    \n",
    "    def predict_classifier(self,test_x):\n",
    "        \n",
    "        result = []\n",
    "        \n",
    "        for i in range(test_x.shape[0]):\n",
    "        \n",
    "            p_plus =  1/(1+np.exp((-1/1000)*np.dot(self.w.T,test_x[i])))#coloquei uma escala para conferir o nivel de confiança, forcei a barra\n",
    "            p_minus =  1/(1+np.exp((1/1000)*np.dot(self.w.T,test_x[i])))\n",
    "            \n",
    "            result +=[p_minus,p_plus]\n",
    "        self.result = np.array(result).reshape((-1,2))\n",
    "        \n",
    "        self.predict = 2*np.argmax(self.result,axis = 1)-1\n",
    "          \n",
    "        return self.predict\n",
    "        \n",
    "\n",
    "    def predict_proba(self,test_x):\n",
    "        \n",
    "        return self.result\n",
    "        "
   ]
  },
  {
   "cell_type": "markdown",
   "metadata": {},
   "source": [
    "<font id = \"7.\" size = 4 color = 'red'> 7. Aplicação</font> "
   ]
  },
  {
   "cell_type": "markdown",
   "metadata": {},
   "source": [
    "<font color = 'blue' size = 3>  **7.1 Separando os dados em dados para treino e dados para teste**</font>\n",
    "\n",
    "Finalmente, separando os dados em dados de treino com  2500 sentenças e de teste com 500 sentençass (onde 250 são revisões positivas e 250 negativas)."
   ]
  },
  {
   "cell_type": "code",
   "execution_count": 15,
   "metadata": {},
   "outputs": [
    {
     "name": "stdout",
     "output_type": "stream",
     "text": [
      "dados de treino:  (2500, 4501)\n",
      "dados de teste:  (500, 4501)\n"
     ]
    }
   ],
   "source": [
    "y = 2*y-1\n",
    "## Separando os dados em dados de treino e dados de teste\n",
    "np.random.seed(0)\n",
    "test_inds = np.append(np.random.choice((np.where(y==-1))[0], 250, replace=False), np.random.choice((np.where(y==1))[0], 250, replace=False))\n",
    "train_inds = list(set(range(len(labels))) - set(test_inds))\n",
    "\n",
    "train_data = data_mat[train_inds,]\n",
    "train_labels = y[train_inds]\n",
    "\n",
    "test_data = data_mat[test_inds,]\n",
    "test_labels = y[test_inds]\n",
    "\n",
    "print(\"dados de treino: \", train_data.shape)\n",
    "print(\"dados de teste: \", test_data.shape)"
   ]
  },
  {
   "cell_type": "markdown",
   "metadata": {},
   "source": [
    "<font color = 'blue' size = 3>  **7.2 Treinando o modelo de regressão logística com os dados de treino**</font>\n"
   ]
  },
  {
   "cell_type": "code",
   "execution_count": 16,
   "metadata": {
    "scrolled": true
   },
   "outputs": [
    {
     "name": "stderr",
     "output_type": "stream",
     "text": [
      "/home/alan/.local/lib/python3.6/site-packages/ipykernel_launcher.py:16: RuntimeWarning: overflow encountered in exp\n",
      "  app.launch_new_instance()\n"
     ]
    },
    {
     "name": "stdout",
     "output_type": "stream",
     "text": [
      "Erro no treino:  0.0064\n",
      "Erro no teste:  0.164\n"
     ]
    }
   ],
   "source": [
    "## Treinando um modelo de regressão logistica com os dados de treino\n",
    "clf = logistic_regression()\n",
    "clf.fit(train_data, train_labels)\n",
    "\n",
    "## Obtendo as predições com os dados de treino e dados de test\n",
    "preds_train = clf.predict_classifier(train_data)\n",
    "preds_test = clf.predict_classifier(test_data)\n",
    "\n",
    "## CComputando os erros\n",
    "errs_train = np.sum((preds_train > 0.0) != (train_labels > 0.0))\n",
    "errs_test = np.sum((preds_test > 0.0) != (test_labels > 0.0))\n",
    "\n",
    "print (\"Erro no treino: \", float(errs_train)/len(train_labels))\n",
    "print (\"Erro no teste: \", float(errs_test)/len(test_labels))"
   ]
  },
  {
   "cell_type": "markdown",
   "metadata": {},
   "source": [
    "Comparando com o modelo do Sklearn..."
   ]
  },
  {
   "cell_type": "code",
   "execution_count": 17,
   "metadata": {},
   "outputs": [
    {
     "name": "stderr",
     "output_type": "stream",
     "text": [
      "/usr/lib/python3/dist-packages/sklearn/linear_model/stochastic_gradient.py:128: FutureWarning: max_iter and tol parameters have been added in <class 'sklearn.linear_model.stochastic_gradient.SGDClassifier'> in 0.19. If both are left unset, they default to max_iter=5 and tol=None. If tol is not None, max_iter defaults to max_iter=1000. From 0.21, default max_iter will be 1000, and default tol will be 1e-3.\n",
      "  \"and default tol will be 1e-3.\" % type(self), FutureWarning)\n"
     ]
    },
    {
     "name": "stdout",
     "output_type": "stream",
     "text": [
      "Erro no treino:  0.0348\n",
      "Erro no teste:  0.194\n"
     ]
    }
   ],
   "source": [
    "from sklearn.linear_model import SGDClassifier\n",
    "\n",
    "## Treinando um modelo de regressão logistica com os dados de treino\n",
    "clfs = SGDClassifier(loss=\"log\", penalty=\"none\")\n",
    "clfs.fit(train_data, train_labels)\n",
    "\n",
    "## Parâmetros encontrados\n",
    "w = clfs.coef_[0,:]\n",
    "b = clfs.intercept_\n",
    "\n",
    "## Obtendo as predições com os dados de treino e dados de test\n",
    "preds_train = clfs.predict(train_data)\n",
    "preds_test = clfs.predict(test_data)\n",
    "\n",
    "## CComputando os erros\n",
    "errs_train = np.sum((preds_train > 0.0) != (train_labels > 0.0))\n",
    "errs_test = np.sum((preds_test > 0.0) != (test_labels > 0.0))\n",
    "\n",
    "print (\"Erro no treino: \", float(errs_train)/len(train_labels))\n",
    "print (\"Erro no teste: \", float(errs_test)/len(test_labels))"
   ]
  },
  {
   "cell_type": "markdown",
   "metadata": {},
   "source": [
    "<font color = 'blue' size = 3>  **7.3 Analisando as margens**</font>\n",
    "\n",
    "O modelo de regressão logistica além de fornecer a classificação, fornece as estimativas de probabilidade condicional.\n",
    " \n",
    "Nós iremos dizer que `x` tem **margem** `gama` se ( de acordo com o modelo de regressão logística) `P(y=1|x)>(1/2)+gama` ou `Pr(y=1|x) < (1/2)-gamma`.\n",
    "\n",
    "A função ** margin_counts** a seguir recebe como entrada o modelo de classificador(`clf`, computado acima),o set de teste (`test_data`), e o valor de `gama` e computa quantos pontos no set de teste tem margem de pelo menos`gama`\n"
   ]
  },
  {
   "cell_type": "code",
   "execution_count": 18,
   "metadata": {},
   "outputs": [],
   "source": [
    "# Returna o numero de pontos no test set onde Pr(y=1) está no intervalo [0, 0.5 - gamma) ou (0.5 + gamma, 1]\n",
    "\n",
    "def margin_counts(clf, test_data, gamma):\n",
    "    # Computa a probabilidade de cada ponto no test_set\n",
    "    preds = clf.predict_proba(test_data)\n",
    "    \n",
    "    # Encontra os pontos para os quais a predição é de pelo menos gama\n",
    "    margin_inds = np.where(np.sum(preds>gamma,axis = 1)==1)[0]\n",
    "    \n",
    "    return float(len(margin_inds))"
   ]
  },
  {
   "cell_type": "markdown",
   "metadata": {},
   "source": [
    "Agora nos visualizamos a distribuição do test_set para os valores de gama ..."
   ]
  },
  {
   "cell_type": "code",
   "execution_count": 24,
   "metadata": {},
   "outputs": [
    {
     "data": {
      "image/png": "[encoded data removed]",
      "text/plain": [
       "<Figure size 1080x432 with 1 Axes>"
      ]
     },
     "metadata": {},
     "output_type": "display_data"
    }
   ],
   "source": [
    "gammas = np.arange(0.5,1,0.01)\n",
    "f = np.vectorize(lambda g: margin_counts(clf, test_data, g))\n",
    "plt.figure(figsize = (15,6))\n",
    "plt.plot(gammas, f(gammas)/500.0, linewidth=2, color='green')\n",
    "plt.xlabel('Margin', fontsize=14)\n",
    "plt.xticks(np.arange(0.5, 1.05, 0.05),['50%','55%','60%','65%','70%','75%','80%','85%','90%','95%','100%'],rotation = 90,)\n",
    "plt.ylabel('Fraction of points above margin', fontsize=14)\n",
    "plt.show()"
   ]
  },
  {
   "cell_type": "markdown",
   "metadata": {},
   "source": [
    "Agora nos visualizamos a distribuição do test_set para os valores de gama\n"
   ]
  },
  {
   "cell_type": "code",
   "execution_count": 20,
   "metadata": {},
   "outputs": [],
   "source": [
    "## Retorna o  erro das predições que estão o intervalo \n",
    "def margin_errors(clf, test_data, test_labels, gamma):\n",
    "    ## Computa a  probabilidade de cada ponto do test_set\n",
    "    preds = clf.predict_proba(test_data)\n",
    "    \n",
    "    ## # Encontra os pontos para os quais a predição é de pelo menos gama\n",
    "    margin_inds = np.where(np.sum(preds>gamma,axis = 1)==1)[0]\n",
    "    \n",
    "    ## Calcula o erro desses pontos\n",
    "    num_errors = np.sum(2*np.argmax(preds[margin_inds],axis = 1)-1!=(test_labels[margin_inds]))\n",
    "    return float(num_errors/margin_inds.shape[0])"
   ]
  },
  {
   "cell_type": "code",
   "execution_count": 25,
   "metadata": {},
   "outputs": [
    {
     "data": {
      "image/png": "[encoded data removed]",
      "text/plain": [
       "<Figure size 1080x432 with 1 Axes>"
      ]
     },
     "metadata": {},
     "output_type": "display_data"
    }
   ],
   "source": [
    "## Criando um set de gamas\n",
    "gammas = np.arange(0.5,1,0.01)\n",
    "\n",
    "# computa a margem de erro no set de treino para cada valor de gama\n",
    "f = np.vectorize(lambda g: margin_errors(clf, test_data, test_labels, g))\n",
    "\n",
    "## plotando os resultados\n",
    "plt.figure(figsize=(15,6))\n",
    "plt.plot(gammas, f(gammas), linewidth=2)\n",
    "plt.ylabel('Error rate', fontsize=14)\n",
    "plt.xlabel('Margin', fontsize=14)\n",
    "plt.xticks(np.arange(0.5, 1.05, 0.05),['50%','55%','60%','65%','70%','75%','80%','85%','90%','95%','100%'],rotation = 90,)\n",
    "plt.show()"
   ]
  },
  {
   "cell_type": "markdown",
   "metadata": {},
   "source": [
    "<font color = 'blue' size = 3>  **7.4 Palavras que mais influenciam o classificador**</font>\n",
    "\n",
    "Finalmente, nos tentamos **interpretar** parcialmente o modelo de regressão logistica\n",
    "\n",
    "Quais são as palavras mais importantes para decidir se uma sentença é positiva? Como uma primeira aproximação para a resposta, nos simplesmente pegamos as palavras cujos coeficientes `w` têm os maiores valores positivos.\n",
    "\n",
    "Por outro lado, nos olhamos para as palavras cujos coeficientes em `w` possuem os valores mais negativos e imaginamos como uma influencia negativa nas predições."
   ]
  },
  {
   "cell_type": "code",
   "execution_count": 26,
   "metadata": {},
   "outputs": [
    {
     "name": "stdout",
     "output_type": "stream",
     "text": [
      "Palavras mais Negativas: \n",
      "['poor', 'worst', 'bad', 'rude', 'aren', 'disappointing', 'beep', 'unfortunately', 'bland', 'disappointment', 'then', 'wasn', 'failed', 'lacks', 'started', 'didn', 'crap', 'fly', 'fails', 'horror', 'mediocre', 'sucks', 'literally', 'return', 'avoid', 'same', 'joke', 'looks', 'waited', 'ripped', 'waste', 'not', 'terrible', 'break', 'cheap', 'talk', 'tasteless', 'doesn', 'make', 'junk', 'front', 'flavorless', 'torture', 'plot', 'imagine', 'none', 'off', 'establishment', 'odd', 'reason']\n",
      "Palavras mais Positivas: \n",
      "['happy', 'friendly', 'plays', 'data', 'cult', 'happier', 'hand', 'vegas', 'ask', 'clear', 'angel', 'fast', 'fun', 'wonderful', 'sex', 'must', 'best', 'both', 'motorola', 'ray', 'charles', 'family', 'joy', 'loved', 'wow', 'delicious', 'incredible', 'cool', 'fall', 'fantastic', 'comfortable', 'scamp', 'art', 'easy', 'liked', 'amazing', 'love', 'beautiful', 'actually', 'great', 'awesome', 'funny', 'entertaining', 'works', 'nice', 'enjoyed', 'perfect', 'interesting']\n"
     ]
    }
   ],
   "source": [
    "## Convertendo o vocabulario em lista:\n",
    "vocab = np.array([z[0] for z in sorted(vectorizer.vocabulary_.items(), key=lambda x:x[1])])\n",
    "\n",
    "## Ordenando os indices de w\n",
    "inds = np.argsort(w)\n",
    "\n",
    "## palavras com os maiores valores negativos\n",
    "neg_inds = inds[0:50]\n",
    "print(\"Palavras mais Negativas: \")\n",
    "print([str(x) for x in list(vocab[neg_inds])])\n",
    "\n",
    "## palavras com os maiores valores positivos\n",
    "pos_inds = inds[-49:-1]\n",
    "print(\"Palavras mais Positivas: \")\n",
    "print([str(x) for x in list(vocab[pos_inds])])"
   ]
  },
  {
   "cell_type": "code",
   "execution_count": null,
   "metadata": {},
   "outputs": [],
   "source": []
  },
  {
   "cell_type": "code",
   "execution_count": null,
   "metadata": {},
   "outputs": [],
   "source": []
  }
 ],
 "metadata": {
  "anaconda-cloud": {},
  "kernelspec": {
   "display_name": "Python 3",
   "language": "python",
   "name": "python3"
  },
  "language_info": {
   "codemirror_mode": {
    "name": "ipython",
    "version": 3
   },
   "file_extension": ".py",
   "mimetype": "text/x-python",
   "name": "python",
   "nbconvert_exporter": "python",
   "pygments_lexer": "ipython3",
   "version": "3.6.5"
  },
  "toc": {
   "colors": {
    "hover_highlight": "#DAA520",
    "navigate_num": "#000000",
    "navigate_text": "#333333",
    "running_highlight": "#FF0000",
    "selected_highlight": "#FFD700",
    "sidebar_border": "#EEEEEE",
    "wrapper_background": "#FFFFFF"
   },
   "moveMenuLeft": true,
   "nav_menu": {
    "height": "12px",
    "width": "252px"
   },
   "navigate_menu": true,
   "number_sections": false,
   "sideBar": true,
   "threshold": 4,
   "toc_cell": false,
   "toc_section_display": "block",
   "toc_window_display": false,
   "widenNotebook": false
  }
 },
 "nbformat": 4,
 "nbformat_minor": 1
}
